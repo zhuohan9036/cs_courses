{
  "cells": [
    {
      "cell_type": "code",
      "execution_count": null,
      "id": "29362e9d",
      "metadata": {
        "id": "29362e9d"
      },
      "outputs": [],
      "source": [
        "# obtain the normalized data\n",
        "\n",
        "norm_data = (data - data.min())/(data.max() - data.min())\n",
        "norm_data"
      ]
    },
    {
      "cell_type": "code",
      "execution_count": null,
      "id": "1d65c696",
      "metadata": {
        "id": "1d65c696"
      },
      "outputs": [],
      "source": [
        "# obtain the standarized data\n",
        "std_data = (data - data.mean())/data.std()\n",
        "std_data"
      ]
    },
    {
      "cell_type": "code",
      "execution_count": 5,
      "id": "f6d394ea",
      "metadata": {
        "id": "f6d394ea"
      },
      "outputs": [
        {
          "name": "stdout",
          "output_type": "stream",
          "text": [
            "['2022/09/13', '2021.09.13', '2023-09-13']\n"
          ]
        }
      ],
      "source": [
        "# Construct a regular expression which could extract date\n",
        "import re\n",
        "pattern = re.compile(r\"\\d{4}[-/.]\\d{1,2}[-/.]\\d{1,2}\")\n",
        "\n",
        "strs = 'Today is 2022/09/13, today in the last year is 2021.09.13, today in the next year is 2023-09-13'\n",
        "result = pattern.findall(strs)\n",
        "\n",
        "print(result)\n",
        "\n",
        "# The answer is"
      ]
    }
  ],
  "metadata": {
    "colab": {
      "provenance": []
    },
    "kernelspec": {
      "display_name": "cs5481",
      "language": "python",
      "name": "python3"
    },
    "language_info": {
      "codemirror_mode": {
        "name": "ipython",
        "version": 3
      },
      "file_extension": ".py",
      "mimetype": "text/x-python",
      "name": "python",
      "nbconvert_exporter": "python",
      "pygments_lexer": "ipython3",
      "version": "3.12.11"
    }
  },
  "nbformat": 4,
  "nbformat_minor": 5
}
